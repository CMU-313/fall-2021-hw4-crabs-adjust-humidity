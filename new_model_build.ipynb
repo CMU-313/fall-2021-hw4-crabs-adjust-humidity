{
 "cells": [
  {
   "cell_type": "markdown",
   "source": [
    "### Creating and Persisting an ML Model"
   ],
   "metadata": {}
  },
  {
   "cell_type": "markdown",
   "source": [
    "Read the student data csv and define the quality student as a student with a G3 greater than or equal to 15."
   ],
   "metadata": {}
  },
  {
   "cell_type": "code",
   "execution_count": 2,
   "source": [
    "import pandas as pd\n",
    "import numpy as np\n",
    "\n",
    "df = pd.read_csv('data/student-mat.csv', sep=';')\n",
    "df['qual_student'] = np.where(df['G3']>=15, 1, 0)\n",
    "X = df.drop(['G3', 'qual_student', 'G1', 'G2'], axis=1)\n",
    "y = df['qual_student']"
   ],
   "outputs": [],
   "metadata": {}
  },
  {
   "cell_type": "markdown",
   "source": [
    "Replace the non-numerical columns with numerical values."
   ],
   "metadata": {}
  },
  {
   "cell_type": "code",
   "execution_count": 3,
   "source": [
    "X['school'] = X['school'].replace(to_replace=['GP','MS'],value=[0,1])\n",
    "X['sex'] = X['sex'].replace(to_replace=['F','M'],value=[0,1])\n",
    "X['address'] = X['address'].replace(to_replace=['U','R'],value=[0,1])\n",
    "X['famsize'] = X['famsize'].replace(to_replace=['LE3','GT3'],value=[0,1])\n",
    "X['Pstatus'] = X['Pstatus'].replace(to_replace=['T','A'],value=[0,1])\n",
    "X['Mjob'] = X['Mjob'].replace(to_replace=['teacher','health','services','at_home','other'],value=[0,1,2,3,4])\n",
    "X['Fjob'] = X['Fjob'].replace(to_replace=['teacher','health','services','at_home','other'],value=[0,1,2,3,4])\n",
    "X['reason'] = X['reason'].replace(to_replace=['home','reputation','course','other'],value=[0,1,2,3])\n",
    "X['guardian'] = X['guardian'].replace(to_replace=['mother','father','other'],value=[0,1,2])\n",
    "X['schoolsup'] = X['schoolsup'].replace(to_replace=['yes','no'],value=[0,1])\n",
    "X['famsup'] = X['famsup'].replace(to_replace=['yes','no'],value=[0,1])\n",
    "X['paid'] = X['paid'].replace(to_replace=['yes','no'],value=[0,1])\n",
    "X['activities'] = X['activities'].replace(to_replace=['yes','no'],value=[0,1])\n",
    "X['nursery'] = X['nursery'].replace(to_replace=['yes','no'],value=[0,1])\n",
    "X['higher'] = X['higher'].replace(to_replace=['yes','no'],value=[0,1])\n",
    "X['internet'] = X['internet'].replace(to_replace=['yes','no'],value=[0,1])\n",
    "X['romantic'] = X['romantic'].replace(to_replace=['yes','no'],value=[0,1])"
   ],
   "outputs": [],
   "metadata": {}
  },
  {
   "cell_type": "markdown",
   "source": [
    "Split the data into training and testing with a 0.7 and 0.3 split."
   ],
   "metadata": {}
  },
  {
   "cell_type": "code",
   "execution_count": 4,
   "source": [
    "from sklearn.model_selection import train_test_split\n",
    "X_train, X_test, y_train, y_test = train_test_split(X, y, test_size=0.3)"
   ],
   "outputs": [],
   "metadata": {}
  },
  {
   "cell_type": "markdown",
   "source": [
    "Using sklearn's feature selection, find the 5 features that have the most weight for the G3 value."
   ],
   "metadata": {}
  },
  {
   "cell_type": "code",
   "execution_count": 5,
   "source": [
    "from sklearn.feature_selection import SelectKBest, f_regression\n",
    "fs = SelectKBest(score_func=f_regression, k='all')\n",
    "fs.fit(X_train, y_train)\n",
    "X_train_fs = fs.transform(X_train)\n",
    "weights = {}\n",
    "for i in range(len(fs.scores_)):\n",
    "\tweights[X_train.columns[i]] = fs.scores_[i]\n",
    "top_features = list(dict(sorted(weights.items(), key=lambda item: item[1], reverse=True)).keys())[:5]\n",
    "top_features"
   ],
   "outputs": [
    {
     "output_type": "execute_result",
     "data": {
      "text/plain": [
       "['Medu', 'failures', 'Walc', 'goout', 'Dalc']"
      ]
     },
     "metadata": {},
     "execution_count": 5
    }
   ],
   "metadata": {}
  },
  {
   "cell_type": "markdown",
   "source": [
    "Keep only those top 5 features."
   ],
   "metadata": {}
  },
  {
   "cell_type": "code",
   "execution_count": 6,
   "source": [
    "X_train = X_train[top_features]\n",
    "X_test = X_test[top_features]"
   ],
   "outputs": [],
   "metadata": {}
  },
  {
   "cell_type": "markdown",
   "source": [
    "Import scikit-learn and build a random forest classifer with 100 trees."
   ],
   "metadata": {}
  },
  {
   "cell_type": "code",
   "execution_count": 7,
   "source": [
    "from sklearn.ensemble import RandomForestClassifier as rf\n",
    "import sklearn\n",
    "clf = rf()\n",
    "clf.fit(X_train, y_train)"
   ],
   "outputs": [
    {
     "output_type": "execute_result",
     "data": {
      "text/plain": [
       "RandomForestClassifier(n_estimators=1000)"
      ]
     },
     "metadata": {},
     "execution_count": 7
    }
   ],
   "metadata": {}
  },
  {
   "cell_type": "markdown",
   "source": [
    "Find the F1 score, precision, recall, and accuracy for the model for the testing data set."
   ],
   "metadata": {}
  },
  {
   "cell_type": "code",
   "execution_count": 205,
   "source": [
    "pred = clf.predict(X_test)\n",
    "print(sklearn.metrics.f1_score(y_test, pred, average='binary'))\n",
    "print(sklearn.metrics.precision_score(y_test, pred, average='binary'))\n",
    "print(sklearn.metrics.recall_score(y_test, pred, average='binary'))\n",
    "print(sklearn.metrics.accuracy_score(y_test, pred))"
   ],
   "outputs": [
    {
     "output_type": "stream",
     "name": "stdout",
     "text": [
      "0.380952380952381\n",
      "0.4444444444444444\n",
      "0.3333333333333333\n",
      "0.7815126050420168\n"
     ]
    }
   ],
   "metadata": {}
  },
  {
   "cell_type": "markdown",
   "source": [
    "Save the model."
   ],
   "metadata": {}
  },
  {
   "cell_type": "code",
   "execution_count": 9,
   "source": [
    "import joblib\n",
    "# modify the file path to where you want to save the model\n",
    "joblib.dump(clf, './dockerfile/apps/new_model.pkl')"
   ],
   "outputs": [
    {
     "output_type": "execute_result",
     "data": {
      "text/plain": [
       "['./dockerfile/apps/new_model.pkl']"
      ]
     },
     "metadata": {},
     "execution_count": 9
    }
   ],
   "metadata": {}
  }
 ],
 "metadata": {
  "interpreter": {
   "hash": "aee8b7b246df8f9039afb4144a1f6fd8d2ca17a180786b69acc140d282b71a49"
  },
  "kernelspec": {
   "name": "python3",
   "display_name": "Python 3.8.5 64-bit"
  },
  "language_info": {
   "name": "python",
   "version": "3.8.5",
   "mimetype": "text/x-python",
   "codemirror_mode": {
    "name": "ipython",
    "version": 3
   },
   "pygments_lexer": "ipython3",
   "nbconvert_exporter": "python",
   "file_extension": ".py"
  }
 },
 "nbformat": 4,
 "nbformat_minor": 2
}
